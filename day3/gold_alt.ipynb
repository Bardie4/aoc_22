{
 "cells": [
  {
   "cell_type": "code",
   "execution_count": 2,
   "metadata": {},
   "outputs": [],
   "source": [
    "lines = open('mission.txt').read().splitlines()\n",
    "\n",
    "alphabet = '0abcdefghijklmnopqrstuvwxyzABCDEFGHIJKLMNOPQRSTUVWXYZ'"
   ]
  },
  {
   "cell_type": "code",
   "execution_count": 3,
   "metadata": {},
   "outputs": [
    {
     "name": "stdout",
     "output_type": "stream",
     "text": [
      "2587\n"
     ]
    }
   ],
   "source": [
    "# Try with sets and union\n",
    "def moving_window(n, iterable):\n",
    "  start, stop = 0, n\n",
    "  while stop <= len(iterable):\n",
    "      yield iterable[start:stop]\n",
    "      start += n\n",
    "      stop += n\n",
    "\n",
    "sacks = moving_window(3, lines)\n",
    "goldBag = []\n",
    "\n",
    "for s in sacks:\n",
    "    badge = set(s[0]) & set(s[1]) & set(s[2])\n",
    "    badge = badge.pop()\n",
    "    goldBag.append(alphabet.index(badge))\n",
    "\n",
    "print(sum(goldBag))"
   ]
  }
 ],
 "metadata": {
  "kernelspec": {
   "display_name": "Python 3.10.8 64-bit",
   "language": "python",
   "name": "python3"
  },
  "language_info": {
   "codemirror_mode": {
    "name": "ipython",
    "version": 3
   },
   "file_extension": ".py",
   "mimetype": "text/x-python",
   "name": "python",
   "nbconvert_exporter": "python",
   "pygments_lexer": "ipython3",
   "version": "3.10.8"
  },
  "orig_nbformat": 4,
  "vscode": {
   "interpreter": {
    "hash": "e7370f93d1d0cde622a1f8e1c04877d8463912d04d973331ad4851f04de6915a"
   }
  }
 },
 "nbformat": 4,
 "nbformat_minor": 2
}
