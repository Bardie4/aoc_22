{
 "cells": [
  {
   "cell_type": "code",
   "execution_count": 23,
   "metadata": {},
   "outputs": [],
   "source": [
    "lines = open('mission.txt').read().splitlines()\n",
    "\n",
    "alphabet = '0abcdefghijklmnopqrstuvwxyzABCDEFGHIJKLMNOPQRSTUVWXYZ'\n",
    "silverBag = []"
   ]
  },
  {
   "cell_type": "code",
   "execution_count": 24,
   "metadata": {},
   "outputs": [
    {
     "name": "stdout",
     "output_type": "stream",
     "text": [
      "8240\n"
     ]
    }
   ],
   "source": [
    "for line in lines:\n",
    "    midpoint = int(len(line) / 2)\n",
    "    ruck1 = line[:midpoint]\n",
    "    ruck2 = line[midpoint:]\n",
    "\n",
    "    for item in ruck1:\n",
    "        try:\n",
    "            hit = ruck2.index(item)\n",
    "            silverBag.append((item, alphabet.index(item)))\n",
    "            break\n",
    "        except:\n",
    "            continue\n",
    "\n",
    "print(sum(j for _, j in silverBag))"
   ]
  },
  {
   "cell_type": "code",
   "execution_count": 38,
   "metadata": {},
   "outputs": [
    {
     "name": "stdout",
     "output_type": "stream",
     "text": [
      "[('p', 16), ('q', 17), ('z', 26), ('r', 18), ('H', 34), ('p', 16), ('p', 16), ('q', 17), ('l', 12), ('B', 28), ('b', 2), ('D', 30), ('z', 26), ('w', 23), ('w', 23), ('t', 20), ('L', 38), ('M', 39), ('h', 8), ('s', 19), ('J', 36), ('J', 36), ('M', 39), ('r', 18), ('z', 26), ('t', 20), ('C', 29), ('G', 33), ('H', 34), ('Z', 52), ('n', 14), ('p', 16), ('W', 49), ('H', 34), ('b', 2), ('C', 29), ('S', 45), ('v', 22), ('Z', 52), ('m', 13), ('G', 33), ('z', 26), ('T', 46), ('P', 42), ('r', 18), ('q', 17), ('F', 32), ('r', 18), ('t', 20), ('L', 38), ('H', 34), ('F', 32), ('w', 23), ('d', 4), ('S', 45), ('c', 3), ('w', 23), ('V', 48), ('D', 30), ('w', 23), ('G', 33), ('R', 44), ('b', 2), ('T', 46), ('m', 13), ('r', 18), ('d', 4), ('h', 8), ('v', 22), ('c', 3), ('T', 46), ('F', 32), ('z', 26), ('T', 46), ('j', 10), ('L', 38), ('h', 8), ('h', 8), ('G', 33), ('Q', 43), ('T', 46), ('c', 3), ('f', 6), ('v', 22), ('N', 40), ('F', 32), ('H', 34), ('g', 7), ('l', 12), ('Z', 52), ('w', 23), ('t', 20), ('T', 46), ('G', 33), ('t', 20), ('B', 28), ('L', 38), ('W', 49), ('d', 4), ('g', 7)]\n",
      "2587\n"
     ]
    }
   ],
   "source": [
    "lines = open('mission.txt').read().splitlines()\n",
    "\n",
    "goldBag = []\n",
    "\n",
    "def moving_window(n, iterable):\n",
    "  start, stop = 0, n\n",
    "  while stop <= len(iterable):\n",
    "      yield iterable[start:stop]\n",
    "      start += n\n",
    "      stop += n\n",
    "\n",
    "def find_common(sacks):\n",
    "    for item in sacks[0]:\n",
    "        if item in sacks[1] and item in sacks[2]:\n",
    "            goldBag.append((item, alphabet.index(item)))\n",
    "            break\n",
    "\n",
    "\n",
    "for line in moving_window(3, lines):\n",
    "    common = find_common(line)\n",
    "\n",
    "print(sum(j for _, j in goldBag))"
   ]
  }
 ],
 "metadata": {
  "kernelspec": {
   "display_name": "Python 3.10.8 64-bit",
   "language": "python",
   "name": "python3"
  },
  "language_info": {
   "codemirror_mode": {
    "name": "ipython",
    "version": 3
   },
   "file_extension": ".py",
   "mimetype": "text/x-python",
   "name": "python",
   "nbconvert_exporter": "python",
   "pygments_lexer": "ipython3",
   "version": "3.10.8"
  },
  "orig_nbformat": 4,
  "vscode": {
   "interpreter": {
    "hash": "e7370f93d1d0cde622a1f8e1c04877d8463912d04d973331ad4851f04de6915a"
   }
  }
 },
 "nbformat": 4,
 "nbformat_minor": 2
}
