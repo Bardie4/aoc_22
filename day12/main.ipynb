{
 "cells": [
  {
   "cell_type": "code",
   "execution_count": 2,
   "metadata": {},
   "outputs": [
    {
     "name": "stdout",
     "output_type": "stream",
     "text": [
      "True\n",
      "True\n"
     ]
    }
   ],
   "source": [
    "import networkx as nx\n",
    "\n",
    "input = [line.strip('\\n') for line in open('mission.txt').readlines()] # read\n",
    "\n",
    "# input = [row.replace('S', 'a').replace('E', 'z') for row in input] # replace start/end\n",
    "input = [[char for char in list(row)] for row in input] # str -> list\n",
    "\n",
    "# print(input)\n",
    "\n",
    "START = ()\n",
    "END = ()\n",
    "\n",
    "input_a = {}\n",
    "for y, row in enumerate(input):\n",
    "    for x, val in enumerate(row):\n",
    "        if val == 'S':\n",
    "            START = ((x, y), 'a')\n",
    "            input_a[(x, y)] = 'a'\n",
    "        elif val == 'E':\n",
    "            END = ((x, y), 'z')\n",
    "            input_a[(x, y)] = 'z'\n",
    "        else:\n",
    "            input_a[(x, y)] = val\n",
    "\n",
    "# print(input_a)\n",
    "\n",
    "def build_graph(data):\n",
    "    G = nx.DiGraph()\n",
    "\n",
    "    for node in data.items():\n",
    "        (x, y), val = node\n",
    "        elev_max = ord(val) + 1\n",
    "\n",
    "        # Up\n",
    "        if (x, y+1) in data:\n",
    "            u_node = ((x, y+1), data[(x, y+1)])\n",
    "            if (ord(u_node[1]) <= elev_max):\n",
    "                G.add_edge(node, u_node)\n",
    "\n",
    "        # Right\n",
    "        if (x+1, y) in data:\n",
    "            r_node = ((x+1, y), data[(x+1, y)])\n",
    "            if (ord(r_node[1]) <= elev_max):\n",
    "                G.add_edge(node, r_node)\n",
    "                \n",
    "        # Down\n",
    "        if (x, y-1) in data:\n",
    "            d_node = ((x, y-1), data[(x, y-1)])\n",
    "            if (ord(d_node[1]) <= elev_max):\n",
    "                G.add_edge(node, d_node)\n",
    "\n",
    "        # Left\n",
    "        if (x-1, y) in data:\n",
    "            l_node = ((x-1, y), data[(x-1, y)])\n",
    "            if (ord(l_node[1]) <= elev_max):\n",
    "                G.add_edge(node, l_node)\n",
    "    \n",
    "    return G\n",
    "\n",
    "graph = build_graph(input_a)\n",
    "\n",
    "# S, E = find_square(input, [\"S\", \"E\"])\n",
    "# print(S, E)\n",
    "\n",
    "# nx.draw(graph, with_labels=True)\n",
    "\n",
    "print(graph.has_node(START))\n",
    "print(graph.has_node(END))\n"
   ]
  },
  {
   "cell_type": "code",
   "execution_count": 12,
   "metadata": {},
   "outputs": [
    {
     "name": "stdout",
     "output_type": "stream",
     "text": [
      "394\n"
     ]
    }
   ],
   "source": [
    "# silver\n",
    "silver = nx.shortest_path(graph, source=START, target=END)\n",
    "print(len(silver)-1)"
   ]
  },
  {
   "cell_type": "code",
   "execution_count": 15,
   "metadata": {},
   "outputs": [
    {
     "name": "stdout",
     "output_type": "stream",
     "text": [
      "388\n"
     ]
    }
   ],
   "source": [
    "# gold\n",
    "def subset_typeofnode(G, typestr):\n",
    "    '''return those nodes in graph G that match type = typestr.'''\n",
    "    all_nodes = G.nodes(data=True)\n",
    "    val_nodes = []\n",
    "    for node in all_nodes:\n",
    "        ((x, y), val), _ = node\n",
    "\n",
    "        if val == typestr:\n",
    "            val_nodes.append(((x, y), val))\n",
    "\n",
    "    return val_nodes\n",
    "\n",
    "a_nodes = subset_typeofnode(graph, 'a')\n",
    "\n",
    "gold = 99999\n",
    "for node in a_nodes:\n",
    "    try:\n",
    "        len_path = nx.shortest_path_length(graph, node, END)\n",
    "    except:\n",
    "        continue\n",
    "    \n",
    "    if len_path < gold:\n",
    "        gold = len_path\n",
    "\n",
    "print(gold)"
   ]
  }
 ],
 "metadata": {
  "kernelspec": {
   "display_name": "Python 3",
   "language": "python",
   "name": "python3"
  },
  "language_info": {
   "codemirror_mode": {
    "name": "ipython",
    "version": 3
   },
   "file_extension": ".py",
   "mimetype": "text/x-python",
   "name": "python",
   "nbconvert_exporter": "python",
   "pygments_lexer": "ipython3",
   "version": "3.10.9 (tags/v3.10.9:1dd9be6, Dec  6 2022, 20:01:21) [MSC v.1934 64 bit (AMD64)]"
  },
  "orig_nbformat": 4,
  "vscode": {
   "interpreter": {
    "hash": "66edcd4fb8f45a7841d6efd802e19caaa33b9d362c458fe42b2899dee719ec37"
   }
  }
 },
 "nbformat": 4,
 "nbformat_minor": 2
}
