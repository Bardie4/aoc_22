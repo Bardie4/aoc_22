{
 "cells": [
  {
   "cell_type": "code",
   "execution_count": 46,
   "metadata": {},
   "outputs": [
    {
     "data": {
      "text/plain": [
       "14069"
      ]
     },
     "execution_count": 46,
     "metadata": {},
     "output_type": "execute_result"
    }
   ],
   "source": [
    "# Silver\n",
    "lines = open('mission.txt').read().splitlines()\n",
    "\n",
    "play = {'Rock': 1, 'Paper': 2, 'Scissor': 3}    \n",
    "score = {1: 0, 0: 3, 2: 6}\n",
    "\n",
    "parser = {\n",
    "    'A': play['Rock'], 'X': play['Rock'],\n",
    "    'B': play['Paper'], 'Y': play['Paper'],\n",
    "    'C': play['Scissor'], 'Z': play['Scissor'],\n",
    "}\n",
    "\n",
    "points = 0\n",
    "for line in lines:\n",
    "    opponent, player = parser[line[0]], parser[line[2]]\n",
    "    diff = ((opponent - player) + 3) % 3\n",
    "    points += player + score[diff]\n",
    "\n",
    "points\n"
   ]
  },
  {
   "cell_type": "code",
   "execution_count": 93,
   "metadata": {},
   "outputs": [
    {
     "data": {
      "text/plain": [
       "12411"
      ]
     },
     "execution_count": 93,
     "metadata": {},
     "output_type": "execute_result"
    }
   ],
   "source": [
    "# Gold\n",
    "lines = open('mission.txt').read().splitlines()\n",
    "parser = {'A': 1, 'X': 1, 'B': 2, 'Y': 2, 'C': 3, 'Z': 3}\n",
    "sum([((parser[line[0]] + parser[line[2]]) % 3) + 1 + ((parser[line[2]] - 1) * 3) for line in lines])"
   ]
  }
 ],
 "metadata": {
  "kernelspec": {
   "display_name": "Python 3.10.8 64-bit",
   "language": "python",
   "name": "python3"
  },
  "language_info": {
   "codemirror_mode": {
    "name": "ipython",
    "version": 3
   },
   "file_extension": ".py",
   "mimetype": "text/x-python",
   "name": "python",
   "nbconvert_exporter": "python",
   "pygments_lexer": "ipython3",
   "version": "3.10.8"
  },
  "orig_nbformat": 4,
  "vscode": {
   "interpreter": {
    "hash": "e7370f93d1d0cde622a1f8e1c04877d8463912d04d973331ad4851f04de6915a"
   }
  }
 },
 "nbformat": 4,
 "nbformat_minor": 2
}
