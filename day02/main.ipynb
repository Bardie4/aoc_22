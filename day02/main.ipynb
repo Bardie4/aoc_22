{
 "cells": [
  {
   "cell_type": "code",
   "execution_count": 10,
   "metadata": {},
   "outputs": [],
   "source": [
    "from enum import Enum\n",
    "\n",
    "lines = open('mission.txt').read().splitlines()\n",
    "\n",
    "class Played(Enum):\n",
    "    ROCK = 1\n",
    "    PAPER = 2\n",
    "    SCISSOR = 3\n",
    "    \n",
    "class Outcome(Enum):\n",
    "    LOSE = 0\n",
    "    DRAW = 3\n",
    "    WIN = 6\n",
    "        \n",
    "def to_played(val):\n",
    "    if val == 'A' or val == 'X':\n",
    "        return Played.ROCK\n",
    "    if val == 'B' or val == 'Y':\n",
    "        return Played.PAPER\n",
    "    if val == 'C' or val == 'Z':\n",
    "        return Played.SCISSOR\n",
    "    \n",
    "def game(opponent, me):\n",
    "    if opponent == Played.ROCK:\n",
    "        if me == Played.ROCK:\n",
    "            return Outcome.DRAW\n",
    "        if me == Played.PAPER:\n",
    "            return Outcome.WIN\n",
    "        if me == Played.SCISSOR:\n",
    "            return Outcome.LOSE\n",
    "        \n",
    "    if opponent == Played.PAPER:\n",
    "        if me == Played.ROCK:\n",
    "            return Outcome.LOSE\n",
    "        if me == Played.PAPER:\n",
    "            return Outcome.DRAW\n",
    "        if me == Played.SCISSOR:\n",
    "            return Outcome.WIN\n",
    "        \n",
    "    if opponent == Played.SCISSOR:\n",
    "        if me == Played.ROCK:\n",
    "            return Outcome.WIN\n",
    "        if me == Played.PAPER:\n",
    "            return Outcome.LOSE\n",
    "        if me == Played.SCISSOR:\n",
    "            return Outcome.DRAW"
   ]
  },
  {
   "cell_type": "code",
   "execution_count": 11,
   "metadata": {},
   "outputs": [
    {
     "name": "stdout",
     "output_type": "stream",
     "text": [
      "14069\n"
     ]
    }
   ],
   "source": [
    "# Quest 1\n",
    "\n",
    "bag = 0\n",
    "\n",
    "for line in lines:\n",
    "    opponent = to_played(line[0])\n",
    "    me = to_played(line[2])\n",
    "    \n",
    "    outcome = game(opponent, me)\n",
    "    \n",
    "    bag += me.value + outcome.value\n",
    "    \n",
    "print(bag)    "
   ]
  },
  {
   "cell_type": "code",
   "execution_count": 18,
   "metadata": {},
   "outputs": [],
   "source": [
    "# Quest 2\n",
    "\n",
    "def to_outcome(val):\n",
    "    if val == 'X':\n",
    "        return Outcome.LOSE\n",
    "    if val == 'Y':\n",
    "        return Outcome.DRAW\n",
    "    if val == 'Z':\n",
    "        return Outcome.WIN\n",
    "    \n",
    "def what_to_play(opponent: Played, outcome: Outcome):\n",
    "    if outcome == Outcome.WIN:\n",
    "        if opponent == Played.ROCK:\n",
    "            return Played.PAPER\n",
    "        if opponent == Played.PAPER:\n",
    "            return Played.SCISSOR\n",
    "        if opponent == Played.SCISSOR:\n",
    "            return Played.ROCK\n",
    "    if outcome == Outcome.LOSE:\n",
    "        if opponent == Played.ROCK:\n",
    "            return Played.SCISSOR\n",
    "        if opponent == Played.PAPER:\n",
    "            return Played.ROCK\n",
    "        if opponent == Played.SCISSOR:\n",
    "            return Played.PAPER\n",
    "    if outcome == Outcome.DRAW:\n",
    "        if opponent == Played.ROCK:\n",
    "            return Played.ROCK\n",
    "        if opponent == Played.PAPER:\n",
    "            return Played.PAPER\n",
    "        if opponent == Played.SCISSOR:\n",
    "            return Played.SCISSOR\n",
    "\n",
    "    "
   ]
  },
  {
   "cell_type": "code",
   "execution_count": 26,
   "metadata": {},
   "outputs": [
    {
     "name": "stdout",
     "output_type": "stream",
     "text": [
      "12411\n"
     ]
    }
   ],
   "source": [
    "bag = 0\n",
    "\n",
    "for line in lines:\n",
    "    opponent = to_played(line[0])\n",
    "    outcome = to_outcome(line[2])\n",
    "    \n",
    "    me = what_to_play(opponent, outcome)\n",
    "    \n",
    "    bag += me.value + outcome.value\n",
    "    \n",
    "print(bag)  "
   ]
  }
 ],
 "metadata": {
  "kernelspec": {
   "display_name": "Python 3.10.8 64-bit",
   "language": "python",
   "name": "python3"
  },
  "language_info": {
   "codemirror_mode": {
    "name": "ipython",
    "version": 3
   },
   "file_extension": ".py",
   "mimetype": "text/x-python",
   "name": "python",
   "nbconvert_exporter": "python",
   "pygments_lexer": "ipython3",
   "version": "3.10.8"
  },
  "orig_nbformat": 4,
  "vscode": {
   "interpreter": {
    "hash": "e7370f93d1d0cde622a1f8e1c04877d8463912d04d973331ad4851f04de6915a"
   }
  }
 },
 "nbformat": 4,
 "nbformat_minor": 2
}
