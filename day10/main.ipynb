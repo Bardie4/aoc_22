{
 "cells": [
  {
   "cell_type": "code",
   "execution_count": 65,
   "metadata": {},
   "outputs": [
    {
     "name": "stdout",
     "output_type": "stream",
     "text": [
      "[340, 2280, 2100, 2940, 3780, 4620]\n",
      "16060\n"
     ]
    }
   ],
   "source": [
    "import re\n",
    "\n",
    "input = open('../day10/mission.txt').readlines()\n",
    "input = [line.strip('\\n') for line in input]\n",
    "\n",
    "X = 1\n",
    "cycle = 1\n",
    "milestones = [20, 60, 100, 140, 180, 220]\n",
    "silver = []\n",
    "\n",
    "for i, line in enumerate(input):\n",
    "    # print(cycle, X)\n",
    "    if cycle in milestones:\n",
    "        silver.append(X * cycle)\n",
    "    elif 'addx' in line and cycle + 1 in milestones:\n",
    "        silver.append(X * (cycle + 1))\n",
    "\n",
    "    if 'noop' in line:\n",
    "        cycle += 1\n",
    "    elif 'addx' in line:\n",
    "        val = int(re.findall('-?\\d+\\.?\\d*', line)[0])\n",
    "        X += val\n",
    "        cycle += 2\n",
    "\n",
    "print(silver)\n",
    "print(sum(silver))\n",
    "\n",
    "\n"
   ]
  },
  {
   "cell_type": "code",
   "execution_count": 86,
   "metadata": {},
   "outputs": [
    {
     "name": "stdout",
     "output_type": "stream",
     "text": [
      "\n",
      "###...##...##..####.#..#.#....#..#.####.\n",
      "#..#.#..#.#..#.#....#.#..#....#..#.#....\n",
      "###..#..#.#....###..##...#....####.###..\n",
      "#..#.####.#....#....#.#..#....#..#.#....\n",
      "#..#.#..#.#..#.#....#.#..#....#..#.#....\n",
      "###..#..#..##..####.#..#.####.#..#.#....\n",
      "\n"
     ]
    }
   ],
   "source": [
    "input = open('../day10/mission.txt').readlines()\n",
    "input = [line.split() for line in input]\n",
    "\n",
    "X = 1\n",
    "cycle = 1\n",
    "index = 0\n",
    "\n",
    "milestones = [20, 60, 100, 140, 180, 220]\n",
    "gold: list[int] = []\n",
    "gold: str = \"\"\n",
    "\n",
    "\n",
    "def cycler():\n",
    "    global index\n",
    "    global gold\n",
    "\n",
    "    gold += \"#\" if X - 1 <= index <= X + 1 else \".\"\n",
    "    index += 1 if index < 39 else -39\n",
    "\n",
    "    if index == 0:\n",
    "        gold += \"\\n\"\n",
    "\n",
    "    return 1\n",
    "\n",
    "\n",
    "for instruction in input:\n",
    "    cycle += cycler()\n",
    "\n",
    "    if instruction[0] == \"addx\":\n",
    "        cycle += cycler()\n",
    "        X += int(instruction[1])\n",
    "\n",
    "print(f\"\\n{gold}\")"
   ]
  }
 ],
 "metadata": {
  "kernelspec": {
   "display_name": "Python 3.10.8 64-bit",
   "language": "python",
   "name": "python3"
  },
  "language_info": {
   "codemirror_mode": {
    "name": "ipython",
    "version": 3
   },
   "file_extension": ".py",
   "mimetype": "text/x-python",
   "name": "python",
   "nbconvert_exporter": "python",
   "pygments_lexer": "ipython3",
   "version": "3.10.8"
  },
  "orig_nbformat": 4,
  "vscode": {
   "interpreter": {
    "hash": "e7370f93d1d0cde622a1f8e1c04877d8463912d04d973331ad4851f04de6915a"
   }
  }
 },
 "nbformat": 4,
 "nbformat_minor": 2
}
