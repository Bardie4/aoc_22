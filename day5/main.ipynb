{
 "cells": [
  {
   "cell_type": "code",
   "execution_count": 92,
   "metadata": {},
   "outputs": [
    {
     "name": "stdout",
     "output_type": "stream",
     "text": [
      "['NZ', 'DCM', 'P']\n"
     ]
    }
   ],
   "source": [
    "import re\n",
    "\n",
    "def get_input_slots():\n",
    "\n",
    "    with open('ex.txt') as reader:\n",
    "        text = reader.read()\n",
    "        header = ''.join(text.split(' 1   2   3')[0])\n",
    "        moves = text.split(' 1   2   3')[1]\n",
    "        \n",
    "        list_of_strings = [''.join(chars) for chars in zip(*header.splitlines())]\n",
    "\n",
    "        bag = []\n",
    "        for string_i in list_of_strings:\n",
    "            if re.findall('\\w', string_i):\n",
    "                bag.append(string_i.strip())\n",
    "                \n",
    "        return bag\n",
    "\n",
    "def get_input_moves():\n",
    "    commands = {}\n",
    "    \n",
    "    f = open('ex.txt').readlines()\n",
    "    \n",
    "    for index, move in f:\n",
    "        matches = re.findall('(?P<order>[0-9]+)', move)\n",
    "            \n",
    "        print(index, matches)\n",
    "            \n",
    "        print(commands)\n",
    "\n",
    "slots = get_input_slots()\n",
    "\n",
    "\n",
    "    "
   ]
  }
 ],
 "metadata": {
  "kernelspec": {
   "display_name": "Python 3.8.10 64-bit ('mars-ads')",
   "language": "python",
   "name": "python3"
  },
  "language_info": {
   "codemirror_mode": {
    "name": "ipython",
    "version": 3
   },
   "file_extension": ".py",
   "mimetype": "text/x-python",
   "name": "python",
   "nbconvert_exporter": "python",
   "pygments_lexer": "ipython3",
   "version": "3.8.10"
  },
  "orig_nbformat": 4,
  "vscode": {
   "interpreter": {
    "hash": "22eca94d823c345d448030f10953b3211ade21576d60b963fe61eb399c36eda3"
   }
  }
 },
 "nbformat": 4,
 "nbformat_minor": 2
}
