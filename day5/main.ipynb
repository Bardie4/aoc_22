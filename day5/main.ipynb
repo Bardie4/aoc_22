{
 "cells": [
  {
   "cell_type": "code",
   "execution_count": 58,
   "metadata": {},
   "outputs": [
    {
     "name": "stdout",
     "output_type": "stream",
     "text": [
      "[['S', 'M', 'R', 'N', 'W', 'J', 'V', 'T'], ['B', 'W', 'D', 'J', 'Q', 'P', 'C', 'V'], ['B', 'J', 'F', 'H', 'D', 'R', 'P'], ['F', 'R', 'P', 'B', 'M', 'N', 'D'], ['H', 'V', 'R', 'P', 'T', 'B'], ['C', 'B', 'P', 'T'], ['B', 'J', 'R', 'P', 'L'], ['N', 'C', 'S', 'L', 'T', 'Z', 'B', 'W'], ['L', 'S', 'G']]\n"
     ]
    }
   ],
   "source": [
    "import re\n",
    "\n",
    "def get_input_slots():\n",
    "\n",
    "    with open('mission.txt') as reader:\n",
    "        text = reader.read()\n",
    "        header = ''.join(text.split(' 1   2   3')[0])\n",
    "        moves = text.split(' 1   2   3')[1]\n",
    "        \n",
    "        list_of_strings = [''.join(chars) for chars in zip(*header.splitlines())]\n",
    "\n",
    "        bag = []\n",
    "        for string_i in list_of_strings:\n",
    "            if re.findall('\\w', string_i):\n",
    "                bag.append(string_i.strip())\n",
    "                \n",
    "        return bag\n",
    "\n",
    "def get_input_moves():\n",
    "    commands = []\n",
    "    f = open('mission.txt').readlines()\n",
    "\n",
    "    for move in f:\n",
    "        matches = re.findall('(?P<order>[0-9]+)', move)\n",
    "            \n",
    "        if matches:\n",
    "            commands.append(matches)\n",
    "\n",
    "    commands.pop(0) # remove header\n",
    "\n",
    "    return commands\n",
    "\n",
    "slots = [list(reversed(char)) for char in get_input_slots()]\n",
    "moves = get_input_moves()\n",
    "print(slots)\n",
    "\n",
    "for command in moves:\n",
    "    count, a, b = command\n",
    "\n",
    "    for _ in range(int(count)):\n",
    "        box = slots[int(a) - 1].pop()\n",
    "        slots[int(b) - 1].append(box)\n",
    "        print(slots)\n",
    "\n",
    "print(slots)\n",
    "\n",
    "silver = ''\n",
    "for item in slots:\n",
    "    silver += item.pop()\n",
    "\n",
    "silver\n",
    "    "
   ]
  }
 ],
 "metadata": {
  "kernelspec": {
   "display_name": "Python 3.10.8 64-bit",
   "language": "python",
   "name": "python3"
  },
  "language_info": {
   "codemirror_mode": {
    "name": "ipython",
    "version": 3
   },
   "file_extension": ".py",
   "mimetype": "text/x-python",
   "name": "python",
   "nbconvert_exporter": "python",
   "pygments_lexer": "ipython3",
   "version": "3.10.8"
  },
  "orig_nbformat": 4,
  "vscode": {
   "interpreter": {
    "hash": "e7370f93d1d0cde622a1f8e1c04877d8463912d04d973331ad4851f04de6915a"
   }
  }
 },
 "nbformat": 4,
 "nbformat_minor": 2
}
