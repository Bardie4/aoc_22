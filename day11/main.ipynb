{
 "cells": [
  {
   "cell_type": "code",
   "execution_count": 15,
   "metadata": {},
   "outputs": [
    {
     "name": "stdout",
     "output_type": "stream",
     "text": [
      "h\n",
      "['Monkey 0:\\n', '  Starting items: 79, 98\\n', '  Operation: new = old * 19\\n', '  Test: divisible by 23\\n', '    If true: throw to monkey 2\\n', '    If false: throw to monkey 3\\n', '\\n']\n",
      "['Monkey 1:\\n', '  Starting items: 54, 65, 75, 74\\n', '  Operation: new = old + 6\\n', '  Test: divisible by 19\\n', '    If true: throw to monkey 2\\n', '    If false: throw to monkey 0\\n', '\\n']\n",
      "['Monkey 2:\\n', '  Starting items: 79, 60, 97\\n', '  Operation: new = old * old\\n', '  Test: divisible by 13\\n', '    If true: throw to monkey 1\\n', '    If false: throw to monkey 3\\n', '\\n']\n",
      "['Monkey 3:\\n', '  Starting items: 74\\n', '  Operation: new = old + 3\\n', '  Test: divisible by 17\\n', '    If true: throw to monkey 0\\n', '    If false: throw to monkey 1']\n",
      "{'starting_items': [79, 98], 'operation': 'new = old * 19\\n', 'test': 'divisible by 23\\n', 'true_monkey': 2, 'false_monkey': 3}\n",
      "{'starting_items': [54, 65, 75, 74], 'operation': 'new = old + 6\\n', 'test': 'divisible by 19\\n', 'true_monkey': 2, 'false_monkey': 0}\n",
      "{'starting_items': [79, 60, 97], 'operation': 'new = old * old\\n', 'test': 'divisible by 13\\n', 'true_monkey': 1, 'false_monkey': 3}\n",
      "{'starting_items': [74], 'operation': 'new = old + 3\\n', 'test': 'divisible by 17\\n', 'true_monkey': 0, 'false_monkey': 1}\n"
     ]
    }
   ],
   "source": [
    "import re\n",
    "\n",
    "class Monkey:\n",
    "    def __init__(self, starting_items, operation, test, true_monkey, false_monkey):\n",
    "        self.items = starting_items\n",
    "        self.operation = operation\n",
    "        self.test = test\n",
    "        self.true_monkey = true_monkey\n",
    "        self.false_monkey = false_monkey\n",
    "\n",
    "    @property\n",
    "    def items(self):\n",
    "        return self.current_items\n",
    "\n",
    "input = open('ex.txt').readlines()\n",
    "\n",
    "monkeys = []\n",
    "iter = 0\n",
    "monk_s = 0\n",
    "monk_e = 0 + 7\n",
    "print('h')\n",
    "\n",
    "while monk_s < 7 * 4:\n",
    "    # print(iter % 7)\n",
    "\n",
    "    cur_lines = input[monk_s:monk_e]\n",
    "\n",
    "    print(cur_lines)\n",
    " \n",
    "    items = re.findall('-?\\d+\\.?\\d*', cur_lines[1])\n",
    "    items = [int(item) for item in items]\n",
    "    op = cur_lines[2].split(': ')[1]\n",
    "    test = cur_lines[3].split(': ')[1]\n",
    "    true_monkey = int(re.findall('-?\\d+\\.?\\d*', cur_lines[4])[0])\n",
    "    false_monkey = int(re.findall('-?\\d+\\.?\\d*', cur_lines[5])[0])\n",
    "\n",
    "    monkey = Monkey(\n",
    "        starting_items=items,\n",
    "        operation=op,\n",
    "        test=test,\n",
    "        true_monkey=true_monkey,\n",
    "        false_monkey=false_monkey\n",
    "    )\n",
    "\n",
    "\n",
    "    monk_s += 7\n",
    "    monk_e += 7\n",
    "\n",
    "    monkeys.append(monkey)\n",
    "\n",
    "for m in monkeys:\n",
    "    print(m.__dict__)"
   ]
  }
 ],
 "metadata": {
  "kernelspec": {
   "display_name": "Python 3.10.8 64-bit",
   "language": "python",
   "name": "python3"
  },
  "language_info": {
   "codemirror_mode": {
    "name": "ipython",
    "version": 3
   },
   "file_extension": ".py",
   "mimetype": "text/x-python",
   "name": "python",
   "nbconvert_exporter": "python",
   "pygments_lexer": "ipython3",
   "version": "3.10.8"
  },
  "orig_nbformat": 4,
  "vscode": {
   "interpreter": {
    "hash": "e7370f93d1d0cde622a1f8e1c04877d8463912d04d973331ad4851f04de6915a"
   }
  }
 },
 "nbformat": 4,
 "nbformat_minor": 2
}
