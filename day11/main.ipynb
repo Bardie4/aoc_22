{
 "cells": [
  {
   "cell_type": "code",
   "execution_count": 9,
   "metadata": {},
   "outputs": [
    {
     "name": "stdout",
     "output_type": "stream",
     "text": [
      "[50, 70, 89, 75, 66, 66]\n",
      "[85]\n",
      "[66, 51, 71, 76, 58, 55, 58, 60]\n",
      "[79, 52, 55, 51]\n",
      "[69, 92]\n",
      "[71, 76, 73, 98, 67, 79, 99]\n",
      "[82, 76, 69, 69, 57]\n",
      "[65, 79, 86]\n",
      "\n"
     ]
    }
   ],
   "source": [
    "import re\n",
    "\n",
    "class Monkey:\n",
    "    def __init__(self, starting_items, operation, test, true_monkey, false_monkey):\n",
    "        self.items = starting_items\n",
    "        self.operation = operation\n",
    "        self.test = test\n",
    "        self.true_monkey = true_monkey\n",
    "        self.false_monkey = false_monkey\n",
    "        self.n_inspected = 0\n",
    "\n",
    "input = open('mission.txt').readlines()\n",
    "\n",
    "i_monkeys = []\n",
    "iter = 0\n",
    "monk_s = 0\n",
    "monk_e = 0 + 7\n",
    "\n",
    "while monk_s < 7 * 8:\n",
    "    # print(iter % 7)\n",
    "\n",
    "    cur_lines = input[monk_s:monk_e]\n",
    "\n",
    "    # print(cur_lines)\n",
    " \n",
    "    items = re.findall('-?\\d+\\.?\\d*', cur_lines[1])\n",
    "    items = [int(item) for item in items]\n",
    "    op = cur_lines[2].split(': ')[1]\n",
    "    test = cur_lines[3].split(': ')[1]\n",
    "    true_monkey = int(re.findall('-?\\d+\\.?\\d*', cur_lines[4])[0])\n",
    "    false_monkey = int(re.findall('-?\\d+\\.?\\d*', cur_lines[5])[0])\n",
    "\n",
    "    monkey = Monkey(\n",
    "        starting_items=items,\n",
    "        operation=op,\n",
    "        test=test,\n",
    "        true_monkey=true_monkey,\n",
    "        false_monkey=false_monkey\n",
    "    )\n",
    "\n",
    "    monk_s += 7\n",
    "    monk_e += 7\n",
    "\n",
    "    i_monkeys.append(monkey)\n",
    "\n",
    "\n",
    "[print(monkey.items) for monkey in i_monkeys]\n",
    "print()\n",
    "\n"
   ]
  },
  {
   "cell_type": "code",
   "execution_count": null,
   "metadata": {},
   "outputs": [],
   "source": [
    "monkeys = i_monkeys\n",
    "\n",
    "for round in range(1, 21):\n",
    "    for m_id, monkey in enumerate(monkeys):\n",
    "        # print(f\"Monkey {m_id}:\")\n",
    "        to_remove = []\n",
    "        for item_idx, item in enumerate(monkey.items):\n",
    "            monkey.n_inspected += 1\n",
    "            # print(f\"  Monkey inspects an item with a worry level of {item}\")\n",
    "            # inspect\n",
    "            op = monkey.operation.split('= ')[1]\n",
    "            old = item\n",
    "            \n",
    "            # worry up\n",
    "            new = eval(op)\n",
    "            # print(f\"    Worry level {op} -> {new}\")\n",
    "\n",
    "            # worry down\n",
    "            new //= 3\n",
    "            # print(f\"    Monkey gets bored with item. Worry level is divided by 3 to {new}\")\n",
    "\n",
    "            div = int(re.findall('-?\\d+\\.?\\d*', monkey.test)[0])\n",
    "            divable = new % div == 0\n",
    "            # print(f\"    Current worry level {'is' if divable else 'is not'} divisible by {div}\")\n",
    "\n",
    "            targ_monkey = monkey.true_monkey if divable else monkey.false_monkey\n",
    "            to_remove.append(item)\n",
    "            monkeys[targ_monkey].items.append(new)\n",
    "            # print(f\"    Item with worry level {new} is thrown to monkey {targ_monkey}\")\n",
    "\n",
    "        for item in to_remove:\n",
    "            monkey.items.remove(item)\n",
    "\n",
    "    # [print(monkey.items) for monkey in monkeys]\n",
    "\n",
    "    # print()\n",
    "\n",
    "[print(monkey.n_inspected) for monkey in monkeys]"
   ]
  },
  {
   "cell_type": "code",
   "execution_count": null,
   "metadata": {},
   "outputs": [],
   "source": [
    "# silver\n",
    "monkey_businesses = [monkey.n_inspected for monkey in monkeys]\n",
    "monkey_businesses = sorted(monkey_businesses)\n",
    "print(monkey_businesses, monkey_businesses[6] + monkey_businesses[7])"
   ]
  },
  {
   "cell_type": "code",
   "execution_count": 10,
   "metadata": {},
   "outputs": [
    {
     "name": "stdout",
     "output_type": "stream",
     "text": [
      "9699690\n",
      "78494\n",
      "86032\n",
      "183784\n",
      "176620\n",
      "237828\n",
      "216047\n",
      "96016\n",
      "27635\n"
     ]
    },
    {
     "data": {
      "text/plain": [
       "[None, None, None, None, None, None, None, None]"
      ]
     },
     "execution_count": 10,
     "metadata": {},
     "output_type": "execute_result"
    }
   ],
   "source": [
    "import numpy as np\n",
    "\n",
    "monkeys = i_monkeys\n",
    "\n",
    "lcm = 1\n",
    "for monkey in monkeys:\n",
    "    lcm *= int(re.findall('-?\\d+\\.?\\d*', monkey.test)[0])\n",
    "\n",
    "print(lcm)\n",
    "\n",
    "for round in range(1, 10_001):\n",
    "    for m_id, monkey in enumerate(monkeys):\n",
    "        # print(f\"Monkey {m_id}:\")\n",
    "        to_remove = []\n",
    "        for item_idx, item in enumerate(monkey.items):\n",
    "            monkey.n_inspected += 1\n",
    "            # print(f\"  Monkey inspects an item with a worry level of {item}\")\n",
    "            # inspect\n",
    "            op = monkey.operation.split('= ')[1]\n",
    "            old = item\n",
    "            \n",
    "            # worry up\n",
    "            new = eval(op) % lcm\n",
    "            # print(f\"    Worry level {op} -> {new}\")\n",
    "\n",
    "            div = int(re.findall('-?\\d+\\.?\\d*', monkey.test)[0])\n",
    "            divable = new % div == 0\n",
    "            # print(f\"    Current worry level {'is' if divable else 'is not'} divisible by {div}\")\n",
    "\n",
    "            targ_monkey = monkey.true_monkey if divable else monkey.false_monkey\n",
    "            to_remove.append(item)\n",
    "            monkeys[targ_monkey].items.append(new)\n",
    "            # print(f\"    Item with worry level {new} is thrown to monkey {targ_monkey}\")\n",
    "\n",
    "        for item in to_remove:\n",
    "            monkey.items.remove(item)\n",
    "\n",
    "    # [print(monkey.items) for monkey in monkeys]\n",
    "\n",
    "    # print()\n",
    "\n",
    "[print(monkey.n_inspected) for monkey in monkeys]"
   ]
  },
  {
   "cell_type": "code",
   "execution_count": 11,
   "metadata": {},
   "outputs": [
    {
     "name": "stdout",
     "output_type": "stream",
     "text": [
      "[27635, 78494, 86032, 96016, 176620, 183784, 216047, 237828] 51382025916\n"
     ]
    }
   ],
   "source": [
    "# gold \n",
    "monkey_businesses = [monkey.n_inspected for monkey in monkeys]\n",
    "monkey_businesses = sorted(monkey_businesses)\n",
    "print(monkey_businesses, monkey_businesses[6] * monkey_businesses[7])"
   ]
  }
 ],
 "metadata": {
  "kernelspec": {
   "display_name": "Python 3.10.8 64-bit",
   "language": "python",
   "name": "python3"
  },
  "language_info": {
   "codemirror_mode": {
    "name": "ipython",
    "version": 3
   },
   "file_extension": ".py",
   "mimetype": "text/x-python",
   "name": "python",
   "nbconvert_exporter": "python",
   "pygments_lexer": "ipython3",
   "version": "3.10.8"
  },
  "orig_nbformat": 4,
  "vscode": {
   "interpreter": {
    "hash": "e7370f93d1d0cde622a1f8e1c04877d8463912d04d973331ad4851f04de6915a"
   }
  }
 },
 "nbformat": 4,
 "nbformat_minor": 2
}
