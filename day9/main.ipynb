{
 "cells": [
  {
   "cell_type": "code",
   "execution_count": 42,
   "metadata": {},
   "outputs": [],
   "source": [
    "input = open('mission.txt').readlines()\n",
    "input = [line.strip('\\n') for line in input]\n",
    "\n",
    "dirs = {'R': (1, 0), 'U': (0, 1), 'L': (-1, 0), 'D': (0, -1)}\n",
    "\n",
    "def move(x, y):\n",
    "    return (x[0]+y[0], x[1]+y[1])\n",
    "\n",
    "def main(data, length = 10):\n",
    "    rope = [(0,0)] * length\n",
    "    visited = set(rope)\n",
    "\n",
    "    for line in data:\n",
    "        dir, steps = line.split()\n",
    "        for _ in range(int(steps)):\n",
    "            rope[0] = move(rope[0], dirs[dir])\n",
    "            for knot in range(1, len(rope)):\n",
    "                diff = [rope[knot - 1][i] - rope[knot][i] for i in (0,1)]\n",
    "                if abs(max([abs(item) for item in diff])) > 1:\n",
    "                    rope[knot] = move(rope[knot], [x//(abs(x) or 1) for x in diff])\n",
    "            visited.add(rope[-1])\n",
    "            \n",
    "    return len(visited)\n"
   ]
  },
  {
   "cell_type": "code",
   "execution_count": 41,
   "metadata": {},
   "outputs": [
    {
     "data": {
      "text/plain": [
       "5930"
      ]
     },
     "execution_count": 41,
     "metadata": {},
     "output_type": "execute_result"
    }
   ],
   "source": [
    "silver = main(input, 2)\n",
    "silver"
   ]
  },
  {
   "cell_type": "code",
   "execution_count": 43,
   "metadata": {},
   "outputs": [
    {
     "data": {
      "text/plain": [
       "2443"
      ]
     },
     "execution_count": 43,
     "metadata": {},
     "output_type": "execute_result"
    }
   ],
   "source": [
    "gold = main(input, 10)\n",
    "gold"
   ]
  }
 ],
 "metadata": {
  "kernelspec": {
   "display_name": "Python 3.10.8 64-bit",
   "language": "python",
   "name": "python3"
  },
  "language_info": {
   "codemirror_mode": {
    "name": "ipython",
    "version": 3
   },
   "file_extension": ".py",
   "mimetype": "text/x-python",
   "name": "python",
   "nbconvert_exporter": "python",
   "pygments_lexer": "ipython3",
   "version": "3.10.8"
  },
  "orig_nbformat": 4,
  "vscode": {
   "interpreter": {
    "hash": "e7370f93d1d0cde622a1f8e1c04877d8463912d04d973331ad4851f04de6915a"
   }
  }
 },
 "nbformat": 4,
 "nbformat_minor": 2
}
