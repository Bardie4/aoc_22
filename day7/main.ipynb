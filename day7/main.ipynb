{
 "cells": [
  {
   "cell_type": "code",
   "execution_count": 2,
   "metadata": {},
   "outputs": [],
   "source": [
    "lines = open('ex.txt').read().splitlines()\n",
    "\n",
    "class Node:\n",
    "    def __init__(self, name):\n",
    "        self.children = {}\n",
    "        self.name = name\n",
    "\n",
    "new_lines = []\n",
    "\n",
    "# rearrange\n",
    "for index, line in enumerate(lines):\n",
    "    if '$' in line: # command\n",
    "        new_lines.append(line)\n",
    "    else:\n",
    "        if '$' in new_lines[-1]:\n",
    "            new_lines.append(f\"{line}\")\n",
    "        else:\n",
    "            new_lines[-1] += f\"|{line}\""
   ]
  },
  {
   "cell_type": "code",
   "execution_count": 3,
   "metadata": {},
   "outputs": [
    {
     "data": {
      "text/plain": [
       "['$ ls',\n",
       " 'dir a|14848514 b.txt|8504156 c.dat|dir d',\n",
       " '$ cd a',\n",
       " '$ ls',\n",
       " 'dir e|29116 f|2557 g|62596 h.lst',\n",
       " '$ cd e',\n",
       " '$ ls',\n",
       " '584 i',\n",
       " '$ cd ..',\n",
       " '$ cd ..',\n",
       " '$ cd d',\n",
       " '$ ls',\n",
       " '4060174 j|8033020 d.log|5626152 d.ext|7214296 k']"
      ]
     },
     "execution_count": 3,
     "metadata": {},
     "output_type": "execute_result"
    }
   ],
   "source": [
    "new_lines"
   ]
  },
  {
   "cell_type": "code",
   "execution_count": 8,
   "metadata": {},
   "outputs": [],
   "source": [
    "from anytree import Node, RenderTree\n",
    "\n",
    "root = Node('root')\n",
    "cur_node = root\n",
    "\n",
    "nodes = new_lines[1].split('|')\n",
    "for node in nodes:\n",
    "    new_node = Node(node, parent=root)\n",
    "\n",
    "# for line in new_lines[:2]:\n",
    "#     if '$ ls' in line:\n",
    "#         continue \n",
    "#     elif '$ cd' in line:\n",
    "#         act = line.split(' ')[2]\n",
    "#         cur_node = cur_node.children[act]\n",
    "#     else:\n",
    "#         nodes = line.split('|')\n",
    "#         for node_name in nodes:\n",
    "#             new_node = Node(node_name, parent=cur_node)"
   ]
  },
  {
   "cell_type": "code",
   "execution_count": 6,
   "metadata": {},
   "outputs": [
    {
     "name": "stdout",
     "output_type": "stream",
     "text": [
      "root\n"
     ]
    }
   ],
   "source": [
    "for pre, fill, node in RenderTree(root):\n",
    "    print(\"%s%s\" % (pre, node.name))"
   ]
  }
 ],
 "metadata": {
  "kernelspec": {
   "display_name": "Python 3.8.10 64-bit ('mars-ads')",
   "language": "python",
   "name": "python3"
  },
  "language_info": {
   "codemirror_mode": {
    "name": "ipython",
    "version": 3
   },
   "file_extension": ".py",
   "mimetype": "text/x-python",
   "name": "python",
   "nbconvert_exporter": "python",
   "pygments_lexer": "ipython3",
   "version": "3.8.10"
  },
  "orig_nbformat": 4,
  "vscode": {
   "interpreter": {
    "hash": "22eca94d823c345d448030f10953b3211ade21576d60b963fe61eb399c36eda3"
   }
  }
 },
 "nbformat": 4,
 "nbformat_minor": 2
}
