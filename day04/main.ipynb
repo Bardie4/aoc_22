{
 "cells": [
  {
   "cell_type": "code",
   "execution_count": 23,
   "metadata": {},
   "outputs": [
    {
     "name": "stdout",
     "output_type": "stream",
     "text": [
      "550\n"
     ]
    }
   ],
   "source": [
    "lines = open('mission.txt').read().splitlines()\n",
    "\n",
    "contained = 0\n",
    "for line in lines:\n",
    "    line = line.replace(\",\",\" \").replace(\"-\",\" \").split(' ')\n",
    "    line = [int(x) for x in line]\n",
    "\n",
    "    if line[0] >= line[2] and line[1] <= line[3]:\n",
    "        contained += 1\n",
    "    elif line[2] >= line[0] and line[3] <= line[1]:\n",
    "        contained += 1\n",
    "\n",
    "print(contained)"
   ]
  },
  {
   "cell_type": "code",
   "execution_count": 42,
   "metadata": {},
   "outputs": [
    {
     "name": "stdout",
     "output_type": "stream",
     "text": [
      "931\n"
     ]
    }
   ],
   "source": [
    "lines = open('mission.txt').read().splitlines()\n",
    "\n",
    "contained = 0\n",
    "for line in lines:\n",
    "    line = line.replace(\",\",\" \").replace(\"-\",\" \").split(' ')\n",
    "    line = [int(x) for x in line]\n",
    "\n",
    "    range1 = set(range(line[0], line[1] + 1))\n",
    "    range2 = set(range(line[2], line[3] + 1))\n",
    "\n",
    "    # print(line[0], line[1])\n",
    "    # print(line[2], line[3])\n",
    "    # print(range1 & range2)\n",
    "    # print()\n",
    "\n",
    "    if any(range1 & range2):\n",
    "        contained += 1\n",
    "\n",
    "print(contained)"
   ]
  }
 ],
 "metadata": {
  "kernelspec": {
   "display_name": "Python 3.10.8 64-bit",
   "language": "python",
   "name": "python3"
  },
  "language_info": {
   "codemirror_mode": {
    "name": "ipython",
    "version": 3
   },
   "file_extension": ".py",
   "mimetype": "text/x-python",
   "name": "python",
   "nbconvert_exporter": "python",
   "pygments_lexer": "ipython3",
   "version": "3.10.8"
  },
  "orig_nbformat": 4,
  "vscode": {
   "interpreter": {
    "hash": "e7370f93d1d0cde622a1f8e1c04877d8463912d04d973331ad4851f04de6915a"
   }
  }
 },
 "nbformat": 4,
 "nbformat_minor": 2
}
