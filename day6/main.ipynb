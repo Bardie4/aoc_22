{
 "cells": [
  {
   "cell_type": "code",
   "execution_count": 16,
   "metadata": {},
   "outputs": [
    {
     "name": "stdout",
     "output_type": "stream",
     "text": [
      "unique 1531\n",
      "1531\n"
     ]
    }
   ],
   "source": [
    "def find_n_unique(window_size, input):\n",
    "    for index, i in enumerate(range(len(input) - window_size + 1)):\n",
    "        group = input[i: i + window_size]\n",
    "        if len(set(group)) == len(group):\n",
    "            print('unique', index + window_size)\n",
    "            return index + window_size\n",
    "\n"
   ]
  },
  {
   "cell_type": "code",
   "execution_count": null,
   "metadata": {},
   "outputs": [],
   "source": [
    "# silver\n",
    "input = open('mission.txt').read()\n",
    "index = find_n_unique(window_size=4, input=input)\n",
    "print(index)"
   ]
  },
  {
   "cell_type": "code",
   "execution_count": 17,
   "metadata": {},
   "outputs": [
    {
     "name": "stdout",
     "output_type": "stream",
     "text": [
      "unique 2518\n",
      "2518\n"
     ]
    }
   ],
   "source": [
    "# gold\n",
    "input = open('mission.txt').read()\n",
    "index = find_n_unique(window_size=14, input=input)\n",
    "print(index)"
   ]
  }
 ],
 "metadata": {
  "kernelspec": {
   "display_name": "Python 3.10.8 64-bit",
   "language": "python",
   "name": "python3"
  },
  "language_info": {
   "codemirror_mode": {
    "name": "ipython",
    "version": 3
   },
   "file_extension": ".py",
   "mimetype": "text/x-python",
   "name": "python",
   "nbconvert_exporter": "python",
   "pygments_lexer": "ipython3",
   "version": "3.10.8"
  },
  "orig_nbformat": 4,
  "vscode": {
   "interpreter": {
    "hash": "e7370f93d1d0cde622a1f8e1c04877d8463912d04d973331ad4851f04de6915a"
   }
  }
 },
 "nbformat": 4,
 "nbformat_minor": 2
}
