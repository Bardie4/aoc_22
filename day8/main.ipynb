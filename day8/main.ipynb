{
 "cells": [
  {
   "cell_type": "code",
   "execution_count": 143,
   "metadata": {},
   "outputs": [
    {
     "data": {
      "text/plain": [
       "array([[ True,  True,  True, ...,  True,  True,  True],\n",
       "       [ True,  True, False, ..., False, False,  True],\n",
       "       [ True, False,  True, ..., False,  True,  True],\n",
       "       ...,\n",
       "       [ True,  True,  True, ..., False,  True,  True],\n",
       "       [ True, False,  True, ..., False,  True,  True],\n",
       "       [ True,  True,  True, ...,  True,  True,  True]])"
      ]
     },
     "execution_count": 143,
     "metadata": {},
     "output_type": "execute_result"
    }
   ],
   "source": [
    "input = open('mission.txt').readlines()\n",
    "matrix = [[int(cell) for cell in row.strip('\\n')] for row in input]\n",
    "row_min, row_max, col_min, col_max = 0, len(matrix) - 1, 0, len(matrix[0]) - 1\n",
    "\n",
    "def is_visible(matrix, row, col, tree_orig):\n",
    "    if (row <= row_min) or (row >= row_max) or (col <= col_min) or (col >= col_max):\n",
    "        return True\n",
    "\n",
    "    right = matrix[row][col+1:]\n",
    "    if right and max(right) < tree_orig:\n",
    "        return True\n",
    "\n",
    "    left = matrix[row][:col]\n",
    "    if left and max(left) < tree_orig:\n",
    "        return True\n",
    "\n",
    "    down = [row[col] for row in matrix[row+1:]]\n",
    "    if down and max(down) < tree_orig:\n",
    "        return True\n",
    "\n",
    "    up =  [row[col] for row in matrix[:row]]\n",
    "    if up and max(up) < tree_orig:\n",
    "        return True\n",
    "\n",
    "    return False\n",
    "\n",
    "result = []\n",
    "\n",
    "for r, row in enumerate(matrix):\n",
    "    for c, tree_height in enumerate(row):\n",
    "        visible = is_visible(matrix, r, c, tree_height)\n",
    "        result.append(visible)\n",
    "\n",
    "import numpy as np\n",
    "result = np.reshape(result, (len(matrix), len(matrix[0])))\n",
    "result"
   ]
  },
  {
   "cell_type": "code",
   "execution_count": 144,
   "metadata": {},
   "outputs": [
    {
     "data": {
      "text/plain": [
       "1538"
      ]
     },
     "execution_count": 144,
     "metadata": {},
     "output_type": "execute_result"
    }
   ],
   "source": [
    "# silver\n",
    "silver = 0\n",
    "for row in result:\n",
    "    for vis in row:\n",
    "        if vis:\n",
    "            silver += 1\n",
    "silver"
   ]
  },
  {
   "cell_type": "code",
   "execution_count": 148,
   "metadata": {},
   "outputs": [
    {
     "data": {
      "text/plain": [
       "196"
      ]
     },
     "execution_count": 148,
     "metadata": {},
     "output_type": "execute_result"
    }
   ],
   "source": [
    "# gold\n",
    "\n",
    "input = open('mission.txt').readlines()\n",
    "matrix = [[int(cell) for cell in row.strip('\\n')] for row in input]\n",
    "row_min, row_max, col_min, col_max = 0, len(matrix) - 1, 0, len(matrix[0]) - 1\n",
    "\n",
    "def scenic_score_line(line, tree_orig):\n",
    "    subscore = 0\n",
    "    for tree in line:\n",
    "        subscore += 1\n",
    "        if tree > tree_orig:\n",
    "            break\n",
    "    return subscore\n",
    "\n",
    "def scenic_score(matrix, row, col, tree_orig):\n",
    "    score = 0\n",
    "\n",
    "    right = matrix[row][col+1:]\n",
    "    score += scenic_score_line(right, tree_orig)\n",
    "\n",
    "    left = reversed(matrix[row][:col])\n",
    "    score += scenic_score_line(left, tree_orig)\n",
    "\n",
    "    down = [row[col] for row in matrix[row+1:]]\n",
    "    score += scenic_score_line(down, tree_orig)\n",
    "\n",
    "    up =  reversed([row[col] for row in matrix[:row]])\n",
    "    score += scenic_score_line(up, tree_orig)\n",
    "\n",
    "    return score\n",
    "\n",
    "\n",
    "result = []\n",
    "\n",
    "for r, row in enumerate(matrix):\n",
    "    for c, tree_height in enumerate(row):\n",
    "        score = scenic_score(matrix, r, c, tree_height)\n",
    "        result.append(score)\n",
    "\n",
    "max(result)"
   ]
  }
 ],
 "metadata": {
  "kernelspec": {
   "display_name": "Python 3.10.8 64-bit",
   "language": "python",
   "name": "python3"
  },
  "language_info": {
   "codemirror_mode": {
    "name": "ipython",
    "version": 3
   },
   "file_extension": ".py",
   "mimetype": "text/x-python",
   "name": "python",
   "nbconvert_exporter": "python",
   "pygments_lexer": "ipython3",
   "version": "3.10.8"
  },
  "orig_nbformat": 4,
  "vscode": {
   "interpreter": {
    "hash": "e7370f93d1d0cde622a1f8e1c04877d8463912d04d973331ad4851f04de6915a"
   }
  }
 },
 "nbformat": 4,
 "nbformat_minor": 2
}
