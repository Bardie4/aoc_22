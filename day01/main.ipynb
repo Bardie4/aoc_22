{
 "cells": [
  {
   "cell_type": "code",
   "execution_count": 51,
   "metadata": {},
   "outputs": [
    {
     "name": "stdout",
     "output_type": "stream",
     "text": [
      "69310\n"
     ]
    }
   ],
   "source": [
    "lines = open('mission.txt').read().splitlines()\n",
    "\n",
    "bag = []\n",
    "sum = 0\n",
    "for line in lines:\n",
    "    if line != '':\n",
    "        sum += int(line)\n",
    "    else:\n",
    "        bag.append(sum)\n",
    "        sum = 0\n",
    "\n",
    "print(max(bag))"
   ]
  },
  {
   "cell_type": "code",
   "execution_count": 53,
   "metadata": {},
   "outputs": [
    {
     "name": "stdout",
     "output_type": "stream",
     "text": [
      "206104\n"
     ]
    }
   ],
   "source": [
    "bag = sorted(bag)\n",
    "print(bag[-1] + bag[-2] + bag[-3])"
   ]
  }
 ],
 "metadata": {
  "kernelspec": {
   "display_name": "Python 3.10.8 64-bit",
   "language": "python",
   "name": "python3"
  },
  "language_info": {
   "codemirror_mode": {
    "name": "ipython",
    "version": 3
   },
   "file_extension": ".py",
   "mimetype": "text/x-python",
   "name": "python",
   "nbconvert_exporter": "python",
   "pygments_lexer": "ipython3",
   "version": "3.10.8"
  },
  "orig_nbformat": 4,
  "vscode": {
   "interpreter": {
    "hash": "e7370f93d1d0cde622a1f8e1c04877d8463912d04d973331ad4851f04de6915a"
   }
  }
 },
 "nbformat": 4,
 "nbformat_minor": 2
}
